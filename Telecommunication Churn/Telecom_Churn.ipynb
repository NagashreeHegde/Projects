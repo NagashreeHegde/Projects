{
 "cells": [
  {
   "cell_type": "markdown",
   "metadata": {
    "id": "cINCRmu0oQN_"
   },
   "source": [
    "# Telecom Churn"
   ]
  },
  {
   "cell_type": "markdown",
   "metadata": {
    "id": "vEG0vSPFhgDe"
   },
   "source": [
    "In the highly competitive telecom industry, customer churn—when customers leave one provider for another—is a significant challenge. Churn directly impacts revenue, customer lifetime value, and brand loyalty. Identifying customers who are likely to churn allows companies to implement targeted retention strategies to improve customer satisfaction and minimize losses.\n",
    "\n",
    "The problem is to develop a machine learning model that can predict customer churn based on historical and behavioral data. This model should analyze various factors, such as customer demographics, service usage patterns, billing details, and customer support interactions, to identify those at risk of leaving the company."
   ]
  },
  {
   "cell_type": "markdown",
   "metadata": {},
   "source": [
    "## **IMPORT LIBRARIES**"
   ]
  },
  {
   "cell_type": "code",
   "execution_count": 4,
   "metadata": {
    "id": "JATiCQ18ydRo"
   },
   "outputs": [],
   "source": [
    "import numpy as np\n",
    "import pandas as pd\n",
    "import matplotlib.pyplot as plt\n",
    "import seaborn as sns\n",
    "%matplotlib inline"
   ]
  },
  {
   "cell_type": "code",
   "execution_count": 5,
   "metadata": {
    "id": "ru_GrR_Ry5qu"
   },
   "outputs": [],
   "source": [
    "import warnings\n",
    "warnings.filterwarnings('ignore')"
   ]
  },
  {
   "cell_type": "markdown",
   "metadata": {},
   "source": [
    "## **1. DATASET DETAILS AND EXPLORATORY DATA ANALYSIS (EDA)**"
   ]
  },
  {
   "cell_type": "markdown",
   "metadata": {},
   "source": [
    "###  DATASET OVERVIEW"
   ]
  },
  {
   "cell_type": "code",
   "execution_count": 8,
   "metadata": {
    "colab": {
     "base_uri": "https://localhost:8080/",
     "height": 461
    },
    "id": "5XGVFtY7y5tl",
    "outputId": "4d40875c-1f6e-400a-faea-2ddac48a7657"
   },
   "outputs": [
    {
     "data": {
      "text/html": [
       "<div>\n",
       "<style scoped>\n",
       "    .dataframe tbody tr th:only-of-type {\n",
       "        vertical-align: middle;\n",
       "    }\n",
       "\n",
       "    .dataframe tbody tr th {\n",
       "        vertical-align: top;\n",
       "    }\n",
       "\n",
       "    .dataframe thead th {\n",
       "        text-align: right;\n",
       "    }\n",
       "</style>\n",
       "<table border=\"1\" class=\"dataframe\">\n",
       "  <thead>\n",
       "    <tr style=\"text-align: right;\">\n",
       "      <th></th>\n",
       "      <th>Unnamed: 0</th>\n",
       "      <th>state</th>\n",
       "      <th>area.code</th>\n",
       "      <th>account.length</th>\n",
       "      <th>voice.plan</th>\n",
       "      <th>voice.messages</th>\n",
       "      <th>intl.plan</th>\n",
       "      <th>intl.mins</th>\n",
       "      <th>intl.calls</th>\n",
       "      <th>intl.charge</th>\n",
       "      <th>...</th>\n",
       "      <th>day.calls</th>\n",
       "      <th>day.charge</th>\n",
       "      <th>eve.mins</th>\n",
       "      <th>eve.calls</th>\n",
       "      <th>eve.charge</th>\n",
       "      <th>night.mins</th>\n",
       "      <th>night.calls</th>\n",
       "      <th>night.charge</th>\n",
       "      <th>customer.calls</th>\n",
       "      <th>churn</th>\n",
       "    </tr>\n",
       "  </thead>\n",
       "  <tbody>\n",
       "    <tr>\n",
       "      <th>0</th>\n",
       "      <td>1</td>\n",
       "      <td>KS</td>\n",
       "      <td>area_code_415</td>\n",
       "      <td>128</td>\n",
       "      <td>yes</td>\n",
       "      <td>25</td>\n",
       "      <td>no</td>\n",
       "      <td>10.0</td>\n",
       "      <td>3</td>\n",
       "      <td>2.70</td>\n",
       "      <td>...</td>\n",
       "      <td>110</td>\n",
       "      <td>45.07</td>\n",
       "      <td>197.4</td>\n",
       "      <td>99</td>\n",
       "      <td>16.78</td>\n",
       "      <td>244.7</td>\n",
       "      <td>91</td>\n",
       "      <td>11.01</td>\n",
       "      <td>1</td>\n",
       "      <td>no</td>\n",
       "    </tr>\n",
       "    <tr>\n",
       "      <th>1</th>\n",
       "      <td>2</td>\n",
       "      <td>OH</td>\n",
       "      <td>area_code_415</td>\n",
       "      <td>107</td>\n",
       "      <td>yes</td>\n",
       "      <td>26</td>\n",
       "      <td>no</td>\n",
       "      <td>13.7</td>\n",
       "      <td>3</td>\n",
       "      <td>3.70</td>\n",
       "      <td>...</td>\n",
       "      <td>123</td>\n",
       "      <td>27.47</td>\n",
       "      <td>195.5</td>\n",
       "      <td>103</td>\n",
       "      <td>16.62</td>\n",
       "      <td>254.4</td>\n",
       "      <td>103</td>\n",
       "      <td>11.45</td>\n",
       "      <td>1</td>\n",
       "      <td>no</td>\n",
       "    </tr>\n",
       "    <tr>\n",
       "      <th>2</th>\n",
       "      <td>3</td>\n",
       "      <td>NJ</td>\n",
       "      <td>area_code_415</td>\n",
       "      <td>137</td>\n",
       "      <td>no</td>\n",
       "      <td>0</td>\n",
       "      <td>no</td>\n",
       "      <td>12.2</td>\n",
       "      <td>5</td>\n",
       "      <td>3.29</td>\n",
       "      <td>...</td>\n",
       "      <td>114</td>\n",
       "      <td>41.38</td>\n",
       "      <td>121.2</td>\n",
       "      <td>110</td>\n",
       "      <td>10.30</td>\n",
       "      <td>162.6</td>\n",
       "      <td>104</td>\n",
       "      <td>7.32</td>\n",
       "      <td>0</td>\n",
       "      <td>no</td>\n",
       "    </tr>\n",
       "    <tr>\n",
       "      <th>3</th>\n",
       "      <td>4</td>\n",
       "      <td>OH</td>\n",
       "      <td>area_code_408</td>\n",
       "      <td>84</td>\n",
       "      <td>no</td>\n",
       "      <td>0</td>\n",
       "      <td>yes</td>\n",
       "      <td>6.6</td>\n",
       "      <td>7</td>\n",
       "      <td>1.78</td>\n",
       "      <td>...</td>\n",
       "      <td>71</td>\n",
       "      <td>50.9</td>\n",
       "      <td>61.9</td>\n",
       "      <td>88</td>\n",
       "      <td>5.26</td>\n",
       "      <td>196.9</td>\n",
       "      <td>89</td>\n",
       "      <td>8.86</td>\n",
       "      <td>2</td>\n",
       "      <td>no</td>\n",
       "    </tr>\n",
       "    <tr>\n",
       "      <th>4</th>\n",
       "      <td>5</td>\n",
       "      <td>OK</td>\n",
       "      <td>area_code_415</td>\n",
       "      <td>75</td>\n",
       "      <td>no</td>\n",
       "      <td>0</td>\n",
       "      <td>yes</td>\n",
       "      <td>10.1</td>\n",
       "      <td>3</td>\n",
       "      <td>2.73</td>\n",
       "      <td>...</td>\n",
       "      <td>113</td>\n",
       "      <td>28.34</td>\n",
       "      <td>148.3</td>\n",
       "      <td>122</td>\n",
       "      <td>12.61</td>\n",
       "      <td>186.9</td>\n",
       "      <td>121</td>\n",
       "      <td>8.41</td>\n",
       "      <td>3</td>\n",
       "      <td>no</td>\n",
       "    </tr>\n",
       "  </tbody>\n",
       "</table>\n",
       "<p>5 rows × 21 columns</p>\n",
       "</div>"
      ],
      "text/plain": [
       "   Unnamed: 0 state      area.code  account.length voice.plan  voice.messages  \\\n",
       "0           1    KS  area_code_415             128        yes              25   \n",
       "1           2    OH  area_code_415             107        yes              26   \n",
       "2           3    NJ  area_code_415             137         no               0   \n",
       "3           4    OH  area_code_408              84         no               0   \n",
       "4           5    OK  area_code_415              75         no               0   \n",
       "\n",
       "  intl.plan  intl.mins  intl.calls  intl.charge  ...  day.calls  day.charge  \\\n",
       "0        no       10.0           3         2.70  ...        110       45.07   \n",
       "1        no       13.7           3         3.70  ...        123       27.47   \n",
       "2        no       12.2           5         3.29  ...        114       41.38   \n",
       "3       yes        6.6           7         1.78  ...         71        50.9   \n",
       "4       yes       10.1           3         2.73  ...        113       28.34   \n",
       "\n",
       "  eve.mins eve.calls  eve.charge  night.mins  night.calls  night.charge  \\\n",
       "0    197.4        99       16.78       244.7           91         11.01   \n",
       "1    195.5       103       16.62       254.4          103         11.45   \n",
       "2    121.2       110       10.30       162.6          104          7.32   \n",
       "3     61.9        88        5.26       196.9           89          8.86   \n",
       "4    148.3       122       12.61       186.9          121          8.41   \n",
       "\n",
       "   customer.calls  churn  \n",
       "0               1     no  \n",
       "1               1     no  \n",
       "2               0     no  \n",
       "3               2     no  \n",
       "4               3     no  \n",
       "\n",
       "[5 rows x 21 columns]"
      ]
     },
     "execution_count": 8,
     "metadata": {},
     "output_type": "execute_result"
    }
   ],
   "source": [
    "# read file\n",
    "df=pd.read_excel(\"Churn (1) (1).xlsx\")\n",
    "df.head()"
   ]
  },
  {
   "cell_type": "code",
   "execution_count": 9,
   "metadata": {
    "colab": {
     "base_uri": "https://localhost:8080/",
     "height": 226
    },
    "id": "2SzlVJfgpAgb",
    "outputId": "32b151ab-f4a9-475c-fa21-c1c9dba17526"
   },
   "outputs": [
    {
     "data": {
      "text/html": [
       "<div>\n",
       "<style scoped>\n",
       "    .dataframe tbody tr th:only-of-type {\n",
       "        vertical-align: middle;\n",
       "    }\n",
       "\n",
       "    .dataframe tbody tr th {\n",
       "        vertical-align: top;\n",
       "    }\n",
       "\n",
       "    .dataframe thead th {\n",
       "        text-align: right;\n",
       "    }\n",
       "</style>\n",
       "<table border=\"1\" class=\"dataframe\">\n",
       "  <thead>\n",
       "    <tr style=\"text-align: right;\">\n",
       "      <th></th>\n",
       "      <th>Unnamed: 0</th>\n",
       "      <th>state</th>\n",
       "      <th>area.code</th>\n",
       "      <th>account.length</th>\n",
       "      <th>voice.plan</th>\n",
       "      <th>voice.messages</th>\n",
       "      <th>intl.plan</th>\n",
       "      <th>intl.mins</th>\n",
       "      <th>intl.calls</th>\n",
       "      <th>intl.charge</th>\n",
       "      <th>...</th>\n",
       "      <th>day.calls</th>\n",
       "      <th>day.charge</th>\n",
       "      <th>eve.mins</th>\n",
       "      <th>eve.calls</th>\n",
       "      <th>eve.charge</th>\n",
       "      <th>night.mins</th>\n",
       "      <th>night.calls</th>\n",
       "      <th>night.charge</th>\n",
       "      <th>customer.calls</th>\n",
       "      <th>churn</th>\n",
       "    </tr>\n",
       "  </thead>\n",
       "  <tbody>\n",
       "    <tr>\n",
       "      <th>0</th>\n",
       "      <td>1</td>\n",
       "      <td>KS</td>\n",
       "      <td>area_code_415</td>\n",
       "      <td>128</td>\n",
       "      <td>yes</td>\n",
       "      <td>25</td>\n",
       "      <td>no</td>\n",
       "      <td>10.0</td>\n",
       "      <td>3</td>\n",
       "      <td>2.70</td>\n",
       "      <td>...</td>\n",
       "      <td>110</td>\n",
       "      <td>45.07</td>\n",
       "      <td>197.4</td>\n",
       "      <td>99</td>\n",
       "      <td>16.78</td>\n",
       "      <td>244.7</td>\n",
       "      <td>91</td>\n",
       "      <td>11.01</td>\n",
       "      <td>1</td>\n",
       "      <td>no</td>\n",
       "    </tr>\n",
       "    <tr>\n",
       "      <th>1</th>\n",
       "      <td>2</td>\n",
       "      <td>OH</td>\n",
       "      <td>area_code_415</td>\n",
       "      <td>107</td>\n",
       "      <td>yes</td>\n",
       "      <td>26</td>\n",
       "      <td>no</td>\n",
       "      <td>13.7</td>\n",
       "      <td>3</td>\n",
       "      <td>3.70</td>\n",
       "      <td>...</td>\n",
       "      <td>123</td>\n",
       "      <td>27.47</td>\n",
       "      <td>195.5</td>\n",
       "      <td>103</td>\n",
       "      <td>16.62</td>\n",
       "      <td>254.4</td>\n",
       "      <td>103</td>\n",
       "      <td>11.45</td>\n",
       "      <td>1</td>\n",
       "      <td>no</td>\n",
       "    </tr>\n",
       "    <tr>\n",
       "      <th>2</th>\n",
       "      <td>3</td>\n",
       "      <td>NJ</td>\n",
       "      <td>area_code_415</td>\n",
       "      <td>137</td>\n",
       "      <td>no</td>\n",
       "      <td>0</td>\n",
       "      <td>no</td>\n",
       "      <td>12.2</td>\n",
       "      <td>5</td>\n",
       "      <td>3.29</td>\n",
       "      <td>...</td>\n",
       "      <td>114</td>\n",
       "      <td>41.38</td>\n",
       "      <td>121.2</td>\n",
       "      <td>110</td>\n",
       "      <td>10.30</td>\n",
       "      <td>162.6</td>\n",
       "      <td>104</td>\n",
       "      <td>7.32</td>\n",
       "      <td>0</td>\n",
       "      <td>no</td>\n",
       "    </tr>\n",
       "    <tr>\n",
       "      <th>3</th>\n",
       "      <td>4</td>\n",
       "      <td>OH</td>\n",
       "      <td>area_code_408</td>\n",
       "      <td>84</td>\n",
       "      <td>no</td>\n",
       "      <td>0</td>\n",
       "      <td>yes</td>\n",
       "      <td>6.6</td>\n",
       "      <td>7</td>\n",
       "      <td>1.78</td>\n",
       "      <td>...</td>\n",
       "      <td>71</td>\n",
       "      <td>50.9</td>\n",
       "      <td>61.9</td>\n",
       "      <td>88</td>\n",
       "      <td>5.26</td>\n",
       "      <td>196.9</td>\n",
       "      <td>89</td>\n",
       "      <td>8.86</td>\n",
       "      <td>2</td>\n",
       "      <td>no</td>\n",
       "    </tr>\n",
       "    <tr>\n",
       "      <th>4</th>\n",
       "      <td>5</td>\n",
       "      <td>OK</td>\n",
       "      <td>area_code_415</td>\n",
       "      <td>75</td>\n",
       "      <td>no</td>\n",
       "      <td>0</td>\n",
       "      <td>yes</td>\n",
       "      <td>10.1</td>\n",
       "      <td>3</td>\n",
       "      <td>2.73</td>\n",
       "      <td>...</td>\n",
       "      <td>113</td>\n",
       "      <td>28.34</td>\n",
       "      <td>148.3</td>\n",
       "      <td>122</td>\n",
       "      <td>12.61</td>\n",
       "      <td>186.9</td>\n",
       "      <td>121</td>\n",
       "      <td>8.41</td>\n",
       "      <td>3</td>\n",
       "      <td>no</td>\n",
       "    </tr>\n",
       "  </tbody>\n",
       "</table>\n",
       "<p>5 rows × 21 columns</p>\n",
       "</div>"
      ],
      "text/plain": [
       "   Unnamed: 0 state      area.code  account.length voice.plan  voice.messages  \\\n",
       "0           1    KS  area_code_415             128        yes              25   \n",
       "1           2    OH  area_code_415             107        yes              26   \n",
       "2           3    NJ  area_code_415             137         no               0   \n",
       "3           4    OH  area_code_408              84         no               0   \n",
       "4           5    OK  area_code_415              75         no               0   \n",
       "\n",
       "  intl.plan  intl.mins  intl.calls  intl.charge  ...  day.calls  day.charge  \\\n",
       "0        no       10.0           3         2.70  ...        110       45.07   \n",
       "1        no       13.7           3         3.70  ...        123       27.47   \n",
       "2        no       12.2           5         3.29  ...        114       41.38   \n",
       "3       yes        6.6           7         1.78  ...         71        50.9   \n",
       "4       yes       10.1           3         2.73  ...        113       28.34   \n",
       "\n",
       "  eve.mins eve.calls  eve.charge  night.mins  night.calls  night.charge  \\\n",
       "0    197.4        99       16.78       244.7           91         11.01   \n",
       "1    195.5       103       16.62       254.4          103         11.45   \n",
       "2    121.2       110       10.30       162.6          104          7.32   \n",
       "3     61.9        88        5.26       196.9           89          8.86   \n",
       "4    148.3       122       12.61       186.9          121          8.41   \n",
       "\n",
       "   customer.calls  churn  \n",
       "0               1     no  \n",
       "1               1     no  \n",
       "2               0     no  \n",
       "3               2     no  \n",
       "4               3     no  \n",
       "\n",
       "[5 rows x 21 columns]"
      ]
     },
     "execution_count": 9,
     "metadata": {},
     "output_type": "execute_result"
    }
   ],
   "source": [
    "# first 5 rows after dropping column Unnamed: 0\n",
    "df.head()"
   ]
  },
  {
   "cell_type": "code",
   "execution_count": 10,
   "metadata": {
    "colab": {
     "base_uri": "https://localhost:8080/"
    },
    "id": "qab0K84cy51l",
    "outputId": "805e14d9-c8a1-466f-adc8-2b12fc5db126"
   },
   "outputs": [
    {
     "name": "stdout",
     "output_type": "stream",
     "text": [
      "<class 'pandas.core.frame.DataFrame'>\n",
      "RangeIndex: 5000 entries, 0 to 4999\n",
      "Data columns (total 21 columns):\n",
      " #   Column          Non-Null Count  Dtype  \n",
      "---  ------          --------------  -----  \n",
      " 0   Unnamed: 0      5000 non-null   int64  \n",
      " 1   state           5000 non-null   object \n",
      " 2   area.code       5000 non-null   object \n",
      " 3   account.length  5000 non-null   int64  \n",
      " 4   voice.plan      5000 non-null   object \n",
      " 5   voice.messages  5000 non-null   int64  \n",
      " 6   intl.plan       5000 non-null   object \n",
      " 7   intl.mins       5000 non-null   float64\n",
      " 8   intl.calls      5000 non-null   int64  \n",
      " 9   intl.charge     5000 non-null   float64\n",
      " 10  day.mins        5000 non-null   float64\n",
      " 11  day.calls       5000 non-null   int64  \n",
      " 12  day.charge      5000 non-null   object \n",
      " 13  eve.mins        5000 non-null   object \n",
      " 14  eve.calls       5000 non-null   int64  \n",
      " 15  eve.charge      5000 non-null   float64\n",
      " 16  night.mins      5000 non-null   float64\n",
      " 17  night.calls     5000 non-null   int64  \n",
      " 18  night.charge    5000 non-null   float64\n",
      " 19  customer.calls  5000 non-null   int64  \n",
      " 20  churn           5000 non-null   object \n",
      "dtypes: float64(6), int64(8), object(7)\n",
      "memory usage: 820.4+ KB\n"
     ]
    }
   ],
   "source": [
    "# data info\n",
    "df.info()"
   ]
  },
  {
   "cell_type": "markdown",
   "metadata": {},
   "source": [
    "### **DATA CLEANING**"
   ]
  },
  {
   "cell_type": "code",
   "execution_count": 12,
   "metadata": {
    "id": "mLMnvakBz1j5"
   },
   "outputs": [],
   "source": [
    "# drop column Unnamed: 0\n",
    "df.drop('Unnamed: 0',axis=1,inplace=True)"
   ]
  },
  {
   "cell_type": "markdown",
   "metadata": {
    "id": "tyy4VHKkKrSn"
   },
   "source": [
    "#### 'day.charge' and 'eve.mins' columns are in object type,As both columns contains numerical values,we need to convert them to float type."
   ]
  },
  {
   "cell_type": "code",
   "execution_count": 14,
   "metadata": {
    "colab": {
     "base_uri": "https://localhost:8080/"
    },
    "id": "j-dPD6ehqQ5e",
    "outputId": "6434017b-6ef0-4533-d809-4e0228174b2e"
   },
   "outputs": [
    {
     "name": "stdout",
     "output_type": "stream",
     "text": [
      "<class 'pandas.core.frame.DataFrame'>\n",
      "RangeIndex: 5000 entries, 0 to 4999\n",
      "Data columns (total 20 columns):\n",
      " #   Column          Non-Null Count  Dtype  \n",
      "---  ------          --------------  -----  \n",
      " 0   state           5000 non-null   object \n",
      " 1   area.code       5000 non-null   object \n",
      " 2   account.length  5000 non-null   int64  \n",
      " 3   voice.plan      5000 non-null   object \n",
      " 4   voice.messages  5000 non-null   int64  \n",
      " 5   intl.plan       5000 non-null   object \n",
      " 6   intl.mins       5000 non-null   float64\n",
      " 7   intl.calls      5000 non-null   int64  \n",
      " 8   intl.charge     5000 non-null   float64\n",
      " 9   day.mins        5000 non-null   float64\n",
      " 10  day.calls       5000 non-null   int64  \n",
      " 11  day.charge      4993 non-null   float64\n",
      " 12  eve.mins        4976 non-null   float64\n",
      " 13  eve.calls       5000 non-null   int64  \n",
      " 14  eve.charge      5000 non-null   float64\n",
      " 15  night.mins      5000 non-null   float64\n",
      " 16  night.calls     5000 non-null   int64  \n",
      " 17  night.charge    5000 non-null   float64\n",
      " 18  customer.calls  5000 non-null   int64  \n",
      " 19  churn           5000 non-null   object \n",
      "dtypes: float64(8), int64(7), object(5)\n",
      "memory usage: 781.4+ KB\n"
     ]
    }
   ],
   "source": [
    "# change dtypes\n",
    "df['day.charge']=df['day.charge'].astype(float)\n",
    "df['eve.mins']=df['eve.mins'].astype(float)\n",
    "df.info()"
   ]
  },
  {
   "cell_type": "markdown",
   "metadata": {
    "id": "ufx4u5XOL7ad"
   },
   "source": [
    "Shape of df is (5000, 20).\n",
    "There are 7 null values in day.charge & 24 in eve.mins"
   ]
  },
  {
   "cell_type": "markdown",
   "metadata": {
    "id": "Kbj0hqSNFTsJ"
   },
   "source": [
    "### Null Imputation"
   ]
  },
  {
   "cell_type": "code",
   "execution_count": 17,
   "metadata": {
    "id": "WqPpwX2-FY2G"
   },
   "outputs": [],
   "source": [
    "# Null imputation based on results from corr matrix (day.charge with day.mins, eve.charge with eve.mins)\n",
    "# Both of the above high positive correlation\n",
    "charge_day=round(df['day.charge']/df['day.mins'],3)\n",
    "charge_eve=round(df['eve.charge']/df['eve.mins'],3)\n",
    "\n",
    "avg_charge_day=charge_day.mean()\n",
    "avg_charge_eve=charge_eve.mean()\n",
    "\n",
    "df['day.charge'].fillna(df['day.mins']*avg_charge_day,inplace=True)\n",
    "df['eve.mins'].fillna(df['eve.charge']/avg_charge_eve,inplace=True)\n",
    "\n",
    "# df.isnull().sum() \n",
    "#Uncomment it to check for null values"
   ]
  },
  {
   "cell_type": "markdown",
   "metadata": {
    "id": "NE5Wr9ZrK2Ca"
   },
   "source": [
    "### Duplicates Handling"
   ]
  },
  {
   "cell_type": "code",
   "execution_count": 19,
   "metadata": {
    "colab": {
     "base_uri": "https://localhost:8080/"
    },
    "id": "IEsf7r1dK5YD",
    "outputId": "939ed4cf-c029-4053-a880-42d570485f87"
   },
   "outputs": [
    {
     "data": {
      "text/plain": [
       "0"
      ]
     },
     "execution_count": 19,
     "metadata": {},
     "output_type": "execute_result"
    }
   ],
   "source": [
    "# duplicates\n",
    "df.duplicated().sum()"
   ]
  },
  {
   "cell_type": "markdown",
   "metadata": {
    "id": "az0bj4S2KfOO"
   },
   "source": [
    "No duplicates found."
   ]
  },
  {
   "cell_type": "markdown",
   "metadata": {},
   "source": [
    "### Categorical Variables"
   ]
  },
  {
   "cell_type": "code",
   "execution_count": 22,
   "metadata": {},
   "outputs": [
    {
     "data": {
      "text/plain": [
       "Index(['state', 'area.code', 'voice.plan', 'intl.plan', 'churn'], dtype='object')"
      ]
     },
     "execution_count": 22,
     "metadata": {},
     "output_type": "execute_result"
    }
   ],
   "source": [
    "# Listing cat_cols for future use\n",
    "cat_cols=df.select_dtypes(exclude=np.number).columns\n",
    "cat_cols"
   ]
  },
  {
   "cell_type": "code",
   "execution_count": 23,
   "metadata": {},
   "outputs": [
    {
     "name": "stdout",
     "output_type": "stream",
     "text": [
      "state\n",
      "WV    158\n",
      "MN    125\n",
      "AL    124\n",
      "ID    119\n",
      "VA    118\n",
      "OH    116\n",
      "TX    116\n",
      "WY    115\n",
      "NY    114\n",
      "OR    114\n",
      "NJ    112\n",
      "UT    112\n",
      "WI    106\n",
      "MI    103\n",
      "ME    103\n",
      "MA    103\n",
      "MD    102\n",
      "VT    101\n",
      "MT     99\n",
      "RI     99\n",
      "KY     99\n",
      "MS     99\n",
      "CT     99\n",
      "KS     99\n",
      "WA     98\n",
      "IN     98\n",
      "CO     96\n",
      "NH     95\n",
      "DE     94\n",
      "MO     93\n",
      "AR     92\n",
      "NM     91\n",
      "NC     91\n",
      "SC     91\n",
      "FL     90\n",
      "NV     90\n",
      "OK     90\n",
      "TN     89\n",
      "AZ     89\n",
      "DC     88\n",
      "IL     88\n",
      "NE     88\n",
      "ND     88\n",
      "HI     86\n",
      "SD     85\n",
      "GA     83\n",
      "LA     82\n",
      "PA     77\n",
      "AK     72\n",
      "IA     69\n",
      "CA     52\n",
      "Name: count, dtype: int64\n",
      "-----------------------\n",
      "area.code\n",
      "area_code_415    2495\n",
      "area_code_408    1259\n",
      "area_code_510    1246\n",
      "Name: count, dtype: int64\n",
      "-----------------------\n",
      "voice.plan\n",
      "no     3677\n",
      "yes    1323\n",
      "Name: count, dtype: int64\n",
      "-----------------------\n",
      "intl.plan\n",
      "no     4527\n",
      "yes     473\n",
      "Name: count, dtype: int64\n",
      "-----------------------\n",
      "churn\n",
      "no     4293\n",
      "yes     707\n",
      "Name: count, dtype: int64\n",
      "-----------------------\n"
     ]
    }
   ],
   "source": [
    "# value counts for categorical variables\n",
    "for i in cat_cols:\n",
    "    print(df[i].value_counts())\n",
    "    print(\"-----------------------\")"
   ]
  },
  {
   "cell_type": "markdown",
   "metadata": {},
   "source": [
    "## Visualizations"
   ]
  },
  {
   "cell_type": "code",
   "execution_count": 25,
   "metadata": {},
   "outputs": [
    {
     "data": {
      "text/plain": [
       "<Axes: xlabel='intl.plan', ylabel='count'>"
      ]
     },
     "execution_count": 25,
     "metadata": {},
     "output_type": "execute_result"
    },
    {
     "data": {
      "image/png": "[encoded data removed]",
      "text/plain": [
       "<Figure size 640x480 with 1 Axes>"
      ]
     },
     "metadata": {},
     "output_type": "display_data"
    }
   ],
   "source": [
    "sns.countplot(data=df,x='intl.plan',hue='churn')"
   ]
  },
  {
   "cell_type": "markdown",
   "metadata": {},
   "source": [
    "#### **Customers with an international plan churn at a higher rate than those without.**"
   ]
  },
  {
   "cell_type": "code",
   "execution_count": 27,
   "metadata": {},
   "outputs": [
    {
     "data": {
      "text/plain": [
       "<Axes: xlabel='state', ylabel='count'>"
      ]
     },
     "execution_count": 27,
     "metadata": {},
     "output_type": "execute_result"
    },
    {
     "data": {
      "image/png": "[encoded data removed]",
      "text/plain": [
       "<Figure size 1300x800 with 1 Axes>"
      ]
     },
     "metadata": {},
     "output_type": "display_data"
    }
   ],
   "source": [
    "plt.figure(figsize=(13,8))\n",
    "# df['state'].value_counts().plot(kind='bar')\n",
    "sns.countplot(data=df,x='state',hue='churn')"
   ]
  },
  {
   "cell_type": "code",
   "execution_count": 28,
   "metadata": {},
   "outputs": [
    {
     "ename": "NameError",
     "evalue": "name 'num_cols' is not defined",
     "output_type": "error",
     "traceback": [
      "\u001b[1;31m---------------------------------------------------------------------------\u001b[0m",
      "\u001b[1;31mNameError\u001b[0m                                 Traceback (most recent call last)",
      "Cell \u001b[1;32mIn[28], line 2\u001b[0m\n\u001b[0;32m      1\u001b[0m plt\u001b[38;5;241m.\u001b[39mfigure(figsize\u001b[38;5;241m=\u001b[39m(\u001b[38;5;241m15\u001b[39m,\u001b[38;5;241m15\u001b[39m))\n\u001b[1;32m----> 2\u001b[0m sns\u001b[38;5;241m.\u001b[39mheatmap(df[num_cols]\u001b[38;5;241m.\u001b[39mcorr()\u001b[38;5;241m.\u001b[39mround(\u001b[38;5;241m3\u001b[39m),annot\u001b[38;5;241m=\u001b[39m\u001b[38;5;28;01mTrue\u001b[39;00m)\n",
      "\u001b[1;31mNameError\u001b[0m: name 'num_cols' is not defined"
     ]
    },
    {
     "data": {
      "text/plain": [
       "<Figure size 1500x1500 with 0 Axes>"
      ]
     },
     "metadata": {},
     "output_type": "display_data"
    }
   ],
   "source": [
    "plt.figure(figsize=(15,15))\n",
    "sns.heatmap(df[num_cols].corr().round(3),annot=True)"
   ]
  },
  {
   "cell_type": "code",
   "execution_count": null,
   "metadata": {},
   "outputs": [],
   "source": [
    "# histograms\n",
    "col = ['account.length','day.calls','eve.calls','night.calls','intl.calls','day.charge','eve.charge','night.charge','intl.charge']\n",
    "\n",
    "fig, axs = plt.subplots(3, 3, figsize=(10, 10))\n",
    "axs = axs.flatten()\n",
    "\n",
    "for i, col_name in enumerate(col):\n",
    "    sns.histplot(data=df, x=col_name, kde=True, ax=axs[i])\n",
    "    axs[i].set_title(col_name)\n",
    "\n",
    "plt.tight_layout()\n",
    "plt.show()"
   ]
  },
  {
   "cell_type": "markdown",
   "metadata": {},
   "source": [
    "#### **Most call and charge-related features follow a normal (bell-shaped) distribution, except for international calls, which are mostly low in count.**"
   ]
  },
  {
   "cell_type": "code",
   "execution_count": null,
   "metadata": {},
   "outputs": [],
   "source": [
    "# box plots\n",
    "col = ['account.length','day.calls','eve.calls','night.calls','intl.calls','day.charge','eve.charge','night.charge','intl.charge']\n",
    "\n",
    "fig, axs = plt.subplots(3, 3, figsize=(10, 10))\n",
    "axs = axs.flatten()\n",
    "\n",
    "for i, col_name in enumerate(col):\n",
    "    sns.boxplot(data=df, x=col_name, ax=axs[i])\n",
    "    axs[i].set_title(col_name)\n",
    "\n",
    "plt.tight_layout()\n",
    "plt.show()"
   ]
  },
  {
   "cell_type": "markdown",
   "metadata": {},
   "source": [
    "#### **Most features have some outliers, especially in international calls and charges, but the data is fairly centered around the median for each.**"
   ]
  },
  {
   "cell_type": "code",
   "execution_count": null,
   "metadata": {},
   "outputs": [],
   "source": [
    "# pie charts\n",
    "col = ['intl.plan','voice.plan','churn']\n",
    "\n",
    "fig, axs = plt.subplots(1, 3, figsize=(10,10))\n",
    "axs = axs.flatten()\n",
    "\n",
    "for i, col_name in enumerate(col):\n",
    "    df[col_name].value_counts().plot(kind='pie', autopct='%1.1f%%', ax=axs[i])\n",
    "    axs[i].set_title(col_name)\n",
    "\n",
    "plt.tight_layout()\n",
    "plt.show()"
   ]
  },
  {
   "cell_type": "markdown",
   "metadata": {},
   "source": [
    "#### **Most customers don’t have an international or voice plan, and around 14% of customers have churned**"
   ]
  },
  {
   "cell_type": "code",
   "execution_count": null,
   "metadata": {},
   "outputs": [],
   "source": [
    "# countplots\n",
    "col = ['intl.plan','voice.plan']\n",
    "\n",
    "fig, axs = plt.subplots(1, 2, figsize=(8,4))\n",
    "axs = axs.flatten()\n",
    "\n",
    "for i, col_name in enumerate(col):\n",
    "    sns.countplot(data=df, x=col_name, hue='churn', ax=axs[i])\n",
    "    axs[i].set_title(col_name)\n",
    "\n",
    "plt.tight_layout()\n",
    "plt.show()"
   ]
  },
  {
   "cell_type": "markdown",
   "metadata": {},
   "source": [
    "#### **Customers with an international plan or without a voice plan are more likely to churn.**"
   ]
  },
  {
   "cell_type": "code",
   "execution_count": null,
   "metadata": {},
   "outputs": [],
   "source": []
  },
  {
   "cell_type": "markdown",
   "metadata": {
    "id": "i_fb8w9-OcxG"
   },
   "source": [
    "### Outliers Handling"
   ]
  },
  {
   "cell_type": "code",
   "execution_count": null,
   "metadata": {
    "colab": {
     "base_uri": "https://localhost:8080/"
    },
    "id": "ncyEUtVkM93d",
    "outputId": "a4d9c8c7-994c-44e8-ce4b-e02e24caeaad"
   },
   "outputs": [],
   "source": [
    "# Listing num_cols for future reference\n",
    "num_cols=df.select_dtypes(include=np.number).columns\n",
    "num_cols"
   ]
  },
  {
   "cell_type": "code",
   "execution_count": null,
   "metadata": {
    "id": "JWt9HhZYOhg7"
   },
   "outputs": [],
   "source": [
    "# outlier handling\n",
    "for i in num_cols:\n",
    "    q1=df[i].quantile(0.25)\n",
    "    q3=df[i].quantile(0.75)\n",
    "    iqr=q3-q1\n",
    "\n",
    "    upper_bound=q3+(1.5*iqr)\n",
    "    lower_bound=q1-(1.5*iqr)\n",
    "\n",
    "    outliers = df[(df[i] > upper_bound) | (df[i] < lower_bound)]"
   ]
  },
  {
   "cell_type": "code",
   "execution_count": null,
   "metadata": {
    "colab": {
     "base_uri": "https://localhost:8080/"
    },
    "id": "snpwroSHOz00",
    "outputId": "d2225366-6ea6-4a20-c12b-c86590e6c381"
   },
   "outputs": [],
   "source": [
    "# shape of outliers\n",
    "outliers.shape"
   ]
  },
  {
   "cell_type": "markdown",
   "metadata": {
    "id": "beGmb0Q8O5xB"
   },
   "source": [
    "#### Removing outliers as we are having a large dataset of (5000, 20) to work with."
   ]
  },
  {
   "cell_type": "code",
   "execution_count": null,
   "metadata": {
    "id": "QyZ1v-QCPHqM"
   },
   "outputs": [],
   "source": [
    "# dropping outliers\n",
    "df = df.drop(outliers.index)"
   ]
  },
  {
   "cell_type": "code",
   "execution_count": null,
   "metadata": {
    "colab": {
     "base_uri": "https://localhost:8080/"
    },
    "id": "CjUfoXuuPS3R",
    "outputId": "a4f8b359-cf40-4e72-ec95-b6dfa0f96e6c"
   },
   "outputs": [],
   "source": [
    "# new shape of dataset\n",
    "df.shape"
   ]
  },
  {
   "cell_type": "markdown",
   "metadata": {
    "id": "Lf7xbZPsH71G"
   },
   "source": [
    "### Categorical Variables"
   ]
  },
  {
   "cell_type": "code",
   "execution_count": null,
   "metadata": {},
   "outputs": [],
   "source": [
    "cat_cols"
   ]
  },
  {
   "cell_type": "code",
   "execution_count": null,
   "metadata": {},
   "outputs": [],
   "source": [
    "# unique number of states\n",
    "df['state'].nunique()"
   ]
  },
  {
   "cell_type": "code",
   "execution_count": null,
   "metadata": {
    "id": "03JzsdAAKsBf"
   },
   "outputs": [],
   "source": [
    "# handling categorical variables\n",
    "df['intl.plan']=df['intl.plan'].map({'yes':1,'no':0})\n",
    "df['voice.plan']=df['voice.plan'].map({'yes':1,'no':0})\n",
    "df['churn']=df['churn'].map({'yes':1,'no':0})"
   ]
  },
  {
   "cell_type": "code",
   "execution_count": null,
   "metadata": {},
   "outputs": [],
   "source": [
    "# unique number of states\n",
    "df['state'].nunique()"
   ]
  },
  {
   "cell_type": "code",
   "execution_count": null,
   "metadata": {},
   "outputs": [],
   "source": [
    "# drop state\n",
    "df.drop('state',axis=1,inplace=True)"
   ]
  },
  {
   "cell_type": "markdown",
   "metadata": {},
   "source": [
    "#### state is a high-cardinality categorical variable (50+ unique values) and Most of the churn behavior is driven by customer activity, plan type, and service experience, not geography."
   ]
  },
  {
   "cell_type": "code",
   "execution_count": null,
   "metadata": {},
   "outputs": [],
   "source": []
  },
  {
   "cell_type": "code",
   "execution_count": null,
   "metadata": {},
   "outputs": [],
   "source": [
    "# unique number area.code\n",
    "df['area.code'].unique()"
   ]
  },
  {
   "cell_type": "code",
   "execution_count": null,
   "metadata": {},
   "outputs": [],
   "source": [
    "df.groupby('area.code')['churn'].mean()"
   ]
  },
  {
   "cell_type": "code",
   "execution_count": null,
   "metadata": {},
   "outputs": [],
   "source": [
    "# drop area_code\n",
    "df.drop('area.code',axis=1,inplace=True)"
   ]
  },
  {
   "cell_type": "markdown",
   "metadata": {},
   "source": [
    "#### as it offers no meaningful differentiation in churn behavior,we are dropping this column "
   ]
  },
  {
   "cell_type": "markdown",
   "metadata": {},
   "source": [
    "#### **Based on correlation analysis, the following pairs have perfect linear correlation:**\n",
    "##### - intl.charge ↔ intl.mins\n",
    "##### - day.charge ↔ day.mins\n",
    "##### - night.charge ↔ night.mins\n",
    "##### - eve.charge ↔ eve.mins\n",
    "#### **Since 'charge' columns are derived directly from 'mins', we can drop the 'charge' columns to avoid multicollinearity.**"
   ]
  },
  {
   "cell_type": "code",
   "execution_count": null,
   "metadata": {},
   "outputs": [],
   "source": [
    "df.drop(columns=['intl.charge', 'day.charge', 'night.charge', 'eve.charge'], inplace=True)"
   ]
  },
  {
   "cell_type": "code",
   "execution_count": null,
   "metadata": {
    "colab": {
     "base_uri": "https://localhost:8080/"
    },
    "id": "Do3_tEdSTba5",
    "outputId": "9be60a8f-63e6-400e-9e71-a9d382aa310e"
   },
   "outputs": [],
   "source": [
    "# displaying 5 rows\n",
    "df.head()"
   ]
  },
  {
   "cell_type": "code",
   "execution_count": null,
   "metadata": {
    "id": "vZg1oO42Jrx0"
   },
   "outputs": [],
   "source": [
    "df.shape"
   ]
  },
  {
   "cell_type": "code",
   "execution_count": null,
   "metadata": {
    "colab": {
     "base_uri": "https://localhost:8080/"
    },
    "id": "VkdTa5LZSUoV",
    "outputId": "36cf97c0-b37d-44bc-d0e6-4d9248a7e6c5"
   },
   "outputs": [],
   "source": [
    "# Statistical summary\n",
    "df.info()"
   ]
  },
  {
   "cell_type": "markdown",
   "metadata": {
    "id": "zYvKYYYb_Qu2"
   },
   "source": [
    "### Data Split"
   ]
  },
  {
   "cell_type": "code",
   "execution_count": null,
   "metadata": {
    "id": "TcrnY-im_UOl"
   },
   "outputs": [],
   "source": [
    "# split data\n",
    "from sklearn.model_selection import train_test_split\n",
    "x=df.drop('churn',axis=1)\n",
    "y=df['churn']\n",
    "\n",
    "x_train,x_test,y_train,y_test=train_test_split(x,y,test_size=0.2,random_state=42)"
   ]
  },
  {
   "cell_type": "code",
   "execution_count": null,
   "metadata": {},
   "outputs": [],
   "source": []
  },
  {
   "cell_type": "code",
   "execution_count": null,
   "metadata": {},
   "outputs": [],
   "source": [
    "df['intl.plan'].value_counts()"
   ]
  },
  {
   "cell_type": "markdown",
   "metadata": {
    "id": "P_0eNI0tOvqc"
   },
   "source": [
    "### Normalization"
   ]
  },
  {
   "cell_type": "code",
   "execution_count": null,
   "metadata": {
    "id": "iL0AOuKxtKXP"
   },
   "outputs": [],
   "source": [
    "cols =x.columns\n",
    "cols"
   ]
  },
  {
   "cell_type": "code",
   "execution_count": null,
   "metadata": {
    "id": "NU9xVKyyNRp4"
   },
   "outputs": [],
   "source": [
    "# new train & test dataset\n",
    "x_train_new = x_train[cols]\n",
    "x_test_new = x_test[cols]\n",
    "y_train_new = y_train\n",
    "y_test_new = y_test"
   ]
  },
  {
   "cell_type": "code",
   "execution_count": null,
   "metadata": {
    "id": "FnGijNfrN3s-"
   },
   "outputs": [],
   "source": [
    "# normalization on training dataset\n",
    "from sklearn.preprocessing import MinMaxScaler\n",
    "scaler = MinMaxScaler()\n",
    "x_train_new = scaler.fit_transform(x_train_new)\n",
    "x_test_new = scaler.transform(x_test_new)\n",
    "\n",
    "# scaler file\n",
    "import pickle\n",
    "pickle.dump(scaler,open('scaler.pkl','wb'))"
   ]
  },
  {
   "cell_type": "markdown",
   "metadata": {
    "id": "VrhiuOzJOrdd"
   },
   "source": [
    "## **MODEL BUILDING**"
   ]
  },
  {
   "cell_type": "markdown",
   "metadata": {},
   "source": [
    "### Logistic Regression"
   ]
  },
  {
   "cell_type": "code",
   "execution_count": null,
   "metadata": {},
   "outputs": [],
   "source": [
    "from sklearn.linear_model import LogisticRegression\n",
    "from sklearn.metrics import accuracy_score, confusion_matrix, classification_report\n",
    "from sklearn.model_selection import KFold, GridSearchCV"
   ]
  },
  {
   "cell_type": "code",
   "execution_count": null,
   "metadata": {},
   "outputs": [],
   "source": [
    "\n",
    "grid = {'C':[0.001,0.01,0.1,1,10,100,1000], 'penalty': ['l1', 'l2']}\n",
    "\n",
    "log_class = LogisticRegression(solver='liblinear')\n",
    "cv = KFold(n_splits=5, random_state=None, shuffle=False)\n",
    "gs = GridSearchCV(log_class, grid, cv=cv, n_jobs=-1, scoring='f1_macro')\n",
    "gs.fit(x_train_new, y_train_new)\n"
   ]
  },
  {
   "cell_type": "code",
   "execution_count": null,
   "metadata": {},
   "outputs": [],
   "source": [
    "gs.best_params_"
   ]
  },
  {
   "cell_type": "code",
   "execution_count": null,
   "metadata": {},
   "outputs": [],
   "source": [
    "y_pred=gs.predict(x_test_new)"
   ]
  },
  {
   "cell_type": "code",
   "execution_count": null,
   "metadata": {},
   "outputs": [],
   "source": [
    "print(accuracy_score(y_test_new,y_pred))\n",
    "print(classification_report(y_test_new,y_pred))\n",
    "print(confusion_matrix(y_test_new,y_pred))"
   ]
  },
  {
   "cell_type": "markdown",
   "metadata": {
    "id": "yMOgr3Xz1G4p"
   },
   "source": [
    "### RANDOM FOREST"
   ]
  },
  {
   "cell_type": "markdown",
   "metadata": {
    "id": "IzwwVRJ41Snk"
   },
   "source": [
    "#### It is a type of bagging technique that uses decision trees as estimators. It creates n decision trees using different set of rows and columns. Each tree is built on different aspects of the data, and the majority class predicted by all the decision trees is returned."
   ]
  },
  {
   "cell_type": "code",
   "execution_count": null,
   "metadata": {},
   "outputs": [],
   "source": [
    "from sklearn.ensemble import RandomForestClassifier\n",
    "from sklearn.metrics import classification_report,accuracy_score,roc_curve,confusion_matrix"
   ]
  },
  {
   "cell_type": "code",
   "execution_count": null,
   "metadata": {
    "id": "c_8keqKp1OHI"
   },
   "outputs": [],
   "source": [
    "\n",
    "random_forest=RandomForestClassifier(n_estimators=50,max_samples=0.9,max_features='sqrt',max_depth=15,bootstrap=True,criterion='entropy')\n",
    "random_forest.fit(x_train_new,y_train_new)\n",
    "rf_pred=random_forest.predict(x_test_new)\n",
    "\n",
    "# {'n_estimators':range(30,70,10),\n",
    "#  'max_features':['log2','sqrt'],\n",
    "#  'max_depth':[5,10,15],\n",
    "#  'max_samples':[0.7,0.8,0.9],\n",
    "#  'criterion':['gini','entropy']}\n",
    "\n",
    "# BEST FITS FOR ABOVE ARE:\n",
    "\n",
    "# {'criterion': 'entropy',\n",
    "#  'max_depth': 15,\n",
    "#  'max_features': 'sqrt',\n",
    "#  'max_samples': 0.9,\n",
    "#  'n_estimators': 50}\n"
   ]
  },
  {
   "cell_type": "markdown",
   "metadata": {
    "id": "RVegSI48ZdFz"
   },
   "source": [
    "#### Hyper parameter tuning\n",
    "##### Using grid search to find the optimum values for the attributes."
   ]
  },
  {
   "cell_type": "code",
   "execution_count": null,
   "metadata": {
    "id": "MfQmyEsp1OEG"
   },
   "outputs": [],
   "source": [
    "## Using grid search to find the optimum values for the attributes.\n",
    "# from sklearn.model_selection import GridSearchCV\n",
    "# rf_params={'n_estimators':range(30,70,10),'max_features':['log2','sqrt'],'max_depth':[5,10,15],'max_samples':[0.7,0.8,0.9],'criterion':['gini','entropy']}\n",
    "# rf_grid_search=GridSearchCV(estimator=random_forest,param_grid=rf_params,n_jobs=-1,verbose=3)\n",
    "# rf_grid_search.fit(x_train_new,y_train_new)\n",
    "# rf_grid_search.best_params_"
   ]
  },
  {
   "cell_type": "code",
   "execution_count": null,
   "metadata": {
    "colab": {
     "base_uri": "https://localhost:8080/"
    },
    "id": "kdUmyAEQ1OBe",
    "outputId": "1172492e-464b-4313-8224-3cd627619661"
   },
   "outputs": [],
   "source": [
    "print(\"Accuracy Score :\",accuracy_score(y_test_new,rf_pred))\n",
    "print(\"--------------- Classification Report ----------------\")\n",
    "print(classification_report(y_test_new,rf_pred))"
   ]
  },
  {
   "cell_type": "markdown",
   "metadata": {
    "id": "gobXVjHD1dTQ"
   },
   "source": [
    "#### Confusion Matrix shows the counts of True Positives, True Negatives, False Positives, and False Negatives.                                   It provides detailed insights into model performance, helping evaluate accuracy, precision, recall, and other metrics."
   ]
  },
  {
   "cell_type": "code",
   "execution_count": null,
   "metadata": {
    "colab": {
     "base_uri": "https://localhost:8080/",
     "height": 433
    },
    "id": "O6GhhFpL1N_D",
    "outputId": "729fd2ee-b20a-42f1-9e94-8ded1492d5fc"
   },
   "outputs": [],
   "source": [
    "conf_matrix=confusion_matrix(y_test_new,rf_pred)\n",
    "plt.figure(figsize=(6,4))\n",
    "sns.heatmap(conf_matrix,annot=True)\n",
    "plt.title(\" Confusion Matrix\",size=16)\n",
    "plt.xlabel(\"Predicted\",color='red',size=12)\n",
    "plt.ylabel(\"Actual\",color='red',size=12)"
   ]
  },
  {
   "cell_type": "markdown",
   "metadata": {
    "id": "5maqj38W1kLb"
   },
   "source": [
    "#### The ROC Curve plots the True Positive Rate (TPR) against the False Positive Rate (FPR) at different thresholds.                            It uses Area Under the Curve(AUC) to measure the performance of the model."
   ]
  },
  {
   "cell_type": "code",
   "execution_count": null,
   "metadata": {
    "colab": {
     "base_uri": "https://localhost:8080/",
     "height": 478
    },
    "id": "w_0QD0Sj1N8h",
    "outputId": "a5f5b63e-95ee-4efa-9119-6ec815a7b85f"
   },
   "outputs": [],
   "source": [
    "from sklearn.metrics import roc_curve,roc_auc_score\n",
    "probability=random_forest.predict_proba(x_test_new)[:,1]\n",
    "auc_score=roc_auc_score(y_test_new,probability)\n",
    "fpr,tpr,thr=roc_curve(y_test_new,probability)\n",
    "plt.title(\"ROC Curve\",size=16)\n",
    "plt.xlabel(\"FPR\",size=12,color='red')\n",
    "plt.ylabel(\"TPR\",size=12,color='red')\n",
    "plt.plot(fpr,tpr,color='red',lw=2,label=f'auc:{auc_score:.2f}')\n",
    "plt.legend(loc='best')\n",
    "plt.plot([0,1],[0,1],linestyle='--',color='grey')\n",
    "plt.grid()"
   ]
  },
  {
   "cell_type": "markdown",
   "metadata": {
    "id": "KMfLj3ou41Ea"
   },
   "source": [
    "### KNN"
   ]
  },
  {
   "cell_type": "code",
   "execution_count": null,
   "metadata": {
    "id": "lhx1HXqZ41Eb"
   },
   "outputs": [],
   "source": [
    "from sklearn.model_selection import KFold\n",
    "from sklearn.model_selection import cross_val_score\n",
    "from sklearn.preprocessing import StandardScaler\n",
    "from sklearn.neighbors import KNeighborsClassifier\n",
    "from sklearn.model_selection import GridSearchCV"
   ]
  },
  {
   "cell_type": "code",
   "execution_count": null,
   "metadata": {
    "colab": {
     "base_uri": "https://localhost:8080/"
    },
    "id": "TOZObb0341Ec",
    "outputId": "06ad88a4-1fb3-4fd8-9655-2ba17295e59d"
   },
   "outputs": [],
   "source": [
    "n_neighbors = np.array(range(1,81))\n",
    "param_grid_knn = dict(n_neighbors=n_neighbors)\n",
    "param_grid_knn"
   ]
  },
  {
   "cell_type": "code",
   "execution_count": null,
   "metadata": {
    "colab": {
     "base_uri": "https://localhost:8080/"
    },
    "id": "qvPZIR2241Ec",
    "outputId": "dbb5086c-90f1-40c3-e4f7-8899dff66003"
   },
   "outputs": [],
   "source": [
    "KNN = KNeighborsClassifier()\n",
    "grid_knn = GridSearchCV(estimator=KNN, param_grid=param_grid_knn)\n",
    "grid_knn.fit(x_train_new, y_train_new)"
   ]
  },
  {
   "cell_type": "code",
   "execution_count": null,
   "metadata": {
    "colab": {
     "base_uri": "https://localhost:8080/"
    },
    "id": "Yhr1J0cl41Ed",
    "outputId": "19ae5afc-9056-475c-8725-874d6dd7ea84"
   },
   "outputs": [],
   "source": [
    "print(grid_knn.best_score_)  #To find the best accuracy fit\n",
    "print(grid_knn.best_params_) #To Find out the number of neighbours for best accuracy"
   ]
  },
  {
   "cell_type": "markdown",
   "metadata": {
    "id": "X5HglRxt41Ed"
   },
   "source": [
    "Size of the Data is 4601\n",
    "Split this data into 8 splits.\n",
    "\n",
    "The dataset is split into 8 folds (partitions).\n",
    "\n",
    "\n",
    "*   4601/8 = 575 obs approx each\n",
    "\n",
    "\n",
    "\n",
    "\n",
    "In each iteration:\n",
    "\n",
    "\n",
    "\n",
    "\n",
    "*   1 fold is used as the validation set (test data).\n",
    "*   7 folds are used as the training set.\n",
    "*   The process is repeated 8 times (each fold gets a chance to be the validation set exactly once).\n",
    "\n",
    "\n",
    "\n",
    "\n"
   ]
  },
  {
   "cell_type": "code",
   "execution_count": null,
   "metadata": {
    "colab": {
     "base_uri": "https://localhost:8080/"
    },
    "id": "N6Gxqc9GGPI4",
    "outputId": "63870869-2907-4a2d-8c7a-ba62da7d5ef8"
   },
   "outputs": [],
   "source": [
    "pred_knn = KNeighborsClassifier(n_neighbors=5)\n",
    "pred_knn.fit(x_train_new, y_train_new)\n",
    "y_pred_knn = pred_knn.predict(x_test_new)\n",
    "print(classification_report(y_test_new, y_pred_knn))"
   ]
  },
  {
   "cell_type": "code",
   "execution_count": null,
   "metadata": {
    "colab": {
     "base_uri": "https://localhost:8080/"
    },
    "id": "EWEyDdMG41Ed",
    "outputId": "1c1cd76e-9238-4ddf-ca41-086a91971c55"
   },
   "outputs": [],
   "source": [
    "kfold = KFold(n_splits=8)\n",
    "model_knn = KNeighborsClassifier(n_neighbors=5)\n",
    "results = cross_val_score(model_knn, x_train_new, y_train_new, cv=kfold)\n",
    "results_df=pd.DataFrame()\n",
    "results_df['Split No'] = list(range(8))\n",
    "results_df['Accuracy %'] = results*100\n",
    "print(\"Accuracy =\" ,results.mean()*100,'%')\n",
    "results_df"
   ]
  },
  {
   "cell_type": "markdown",
   "metadata": {
    "id": "xEquWrcG6Mfa"
   },
   "source": [
    "### SVM"
   ]
  },
  {
   "cell_type": "code",
   "execution_count": null,
   "metadata": {},
   "outputs": [],
   "source": [
    "# SVM\n",
    "from sklearn.svm import SVC\n",
    "from sklearn.metrics import accuracy_score, confusion_matrix, classification_report\n",
    "from sklearn.model_selection import GridSearchCV"
   ]
  },
  {
   "cell_type": "code",
   "execution_count": null,
   "metadata": {},
   "outputs": [],
   "source": [
    "svc = SVC()\n",
    "svc.fit(x_train_new,y_train_new)"
   ]
  },
  {
   "cell_type": "code",
   "execution_count": null,
   "metadata": {
    "colab": {
     "base_uri": "https://localhost:8080/"
    },
    "id": "qTGciBJ46PhJ",
    "outputId": "13e80261-25fe-4661-be2d-38804169e725"
   },
   "outputs": [],
   "source": [
    "y_pred=svc.predict(x_test_new)"
   ]
  },
  {
   "cell_type": "code",
   "execution_count": null,
   "metadata": {},
   "outputs": [],
   "source": [
    "print(accuracy_score(y_test_new,y_pred))"
   ]
  },
  {
   "cell_type": "code",
   "execution_count": null,
   "metadata": {
    "colab": {
     "base_uri": "https://localhost:8080/"
    },
    "id": "kv3SI0o_sRTG",
    "outputId": "f2d4281a-dec0-4e0c-8e99-9b76cfb07258"
   },
   "outputs": [],
   "source": [
    "# Confusion matrix\n",
    "y_pred = grid_svm.predict(x_test_new)\n",
    "cm = confusion_matrix(y_test_new, y_pred)\n",
    "print(cm)"
   ]
  },
  {
   "cell_type": "code",
   "execution_count": null,
   "metadata": {
    "colab": {
     "base_uri": "https://localhost:8080/"
    },
    "id": "ctR-E5sU6jI3",
    "outputId": "d287af67-8255-4a1f-a620-be5ef1df7c35"
   },
   "outputs": [],
   "source": [
    "# classification report\n",
    "print(classification_report(y_test_new, y_pred))"
   ]
  },
  {
   "cell_type": "code",
   "execution_count": null,
   "metadata": {
    "colab": {
     "base_uri": "https://localhost:8080/",
     "height": 447
    },
    "id": "f7NUT6KatPmz",
    "outputId": "07b80638-f687-4979-dc8e-de5e8354bbf8"
   },
   "outputs": [],
   "source": []
  },
  {
   "cell_type": "markdown",
   "metadata": {
    "id": "MkMyjU8TpC_6"
   },
   "source": [
    "### XGBoost"
   ]
  },
  {
   "cell_type": "code",
   "execution_count": null,
   "metadata": {},
   "outputs": [],
   "source": [
    "from xgboost import XGBClassifier\n",
    "from sklearn.metrics import accuracy_score, confusion_matrix, classification_report, roc_auc_score, roc_curve"
   ]
  },
  {
   "cell_type": "code",
   "execution_count": null,
   "metadata": {},
   "outputs": [],
   "source": [
    "model=XGBClassifier()\n",
    "model.fit(x_train_new,y_train_new)"
   ]
  },
  {
   "cell_type": "code",
   "execution_count": null,
   "metadata": {
    "colab": {
     "base_uri": "https://localhost:8080/"
    },
    "id": "5s-RO_i9x9-z",
    "outputId": "46185b97-a536-4baa-f38b-6e789616d978"
   },
   "outputs": [],
   "source": [
    "params={\"learning_rate\": [0.1, 0.01],\n",
    "                  \"max_depth\": [5, 8, 12, 20, 30],\n",
    "                  \"n_estimators\": [100, 200, 300],\n",
    "                  \"colsample_bytree\": [0.5, 0.8, 1, 0.3, 0.4]}"
   ]
  },
  {
   "cell_type": "code",
   "execution_count": null,
   "metadata": {},
   "outputs": [],
   "source": [
    "from sklearn.model_selection import RandomizedSearchCV\n",
    "randomcv = RandomizedSearchCV(estimator=model,\n",
    "                                   param_distributions=params,\n",
    "                                   n_iter=100,\n",
    "                                   cv=3,\n",
    "                                   verbose=2,\n",
    "                                   n_jobs=-1)"
   ]
  },
  {
   "cell_type": "code",
   "execution_count": null,
   "metadata": {},
   "outputs": [],
   "source": [
    "randomcv.fit(x_train_new,y_train_new)"
   ]
  },
  {
   "cell_type": "code",
   "execution_count": null,
   "metadata": {},
   "outputs": [],
   "source": [
    "randomcv.best_params_"
   ]
  },
  {
   "cell_type": "code",
   "execution_count": null,
   "metadata": {},
   "outputs": [],
   "source": [
    "xgb=XGBClassifier(n_estimators=100,max_depth=5,learning_rate=0.1,colsample_bytree= 1)"
   ]
  },
  {
   "cell_type": "code",
   "execution_count": null,
   "metadata": {},
   "outputs": [],
   "source": [
    "xgb.fit(x_train_new,y_train_new)"
   ]
  },
  {
   "cell_type": "code",
   "execution_count": null,
   "metadata": {},
   "outputs": [],
   "source": []
  },
  {
   "cell_type": "code",
   "execution_count": null,
   "metadata": {
    "colab": {
     "base_uri": "https://localhost:8080/"
    },
    "id": "4rwrjpwSGsye",
    "outputId": "6ac841b1-21f1-4781-898e-cad5a790192a"
   },
   "outputs": [],
   "source": [
    "# confusion matrix\n",
    "y_pred_xgb = xgb.predict(x_test_new)\n",
    "print(accuracy_score(y_test_new,y_pred_xgb))\n",
    "cm = confusion_matrix(y_test_new, y_pred_xgb)\n",
    "print(cm)"
   ]
  },
  {
   "cell_type": "code",
   "execution_count": null,
   "metadata": {
    "colab": {
     "base_uri": "https://localhost:8080/"
    },
    "id": "flMKoHeyGwTw",
    "outputId": "a43cc847-8d6e-4416-ca20-ba7a61d602a1"
   },
   "outputs": [],
   "source": [
    "# classification report\n",
    "print(classification_report(y_test_new, y_pred_xgb))"
   ]
  },
  {
   "cell_type": "code",
   "execution_count": null,
   "metadata": {
    "colab": {
     "base_uri": "https://localhost:8080/"
    },
    "id": "pGtI7LFLHApE",
    "outputId": "de54b457-0e8e-45cf-dedb-704ff5e9ec83"
   },
   "outputs": [],
   "source": [
    "# ROC curve\n",
    "from sklearn.metrics import roc_curve,roc_auc_score\n",
    "probability=xgb.predict_proba(x_test_new)[:,1]\n",
    "auc_score=roc_auc_score(y_test_new,probability)\n",
    "fpr,tpr,thr=roc_curve(y_test_new,probability)\n",
    "\n",
    "plt.plot(fpr,tpr,label=f'AUC={auc_score:.2f}')"
   ]
  },
  {
   "cell_type": "markdown",
   "metadata": {
    "id": "SJ8k3oHoaS5I"
   },
   "source": [
    "### ANN"
   ]
  },
  {
   "cell_type": "code",
   "execution_count": null,
   "metadata": {
    "id": "0Unj6ArGabzq"
   },
   "outputs": [],
   "source": [
    "from sklearn.model_selection import train_test_split\n",
    "from sklearn.preprocessing import StandardScaler, LabelEncoder\n",
    "from tensorflow.keras.models import Sequential\n",
    "from tensorflow.keras.layers import Dense, Dropout"
   ]
  },
  {
   "cell_type": "code",
   "execution_count": null,
   "metadata": {
    "id": "7UcRV-j1aiMD"
   },
   "outputs": [],
   "source": [
    "ann_model = Sequential([\n",
    "    Dense(128, activation='relu', input_dim=x_train_new.shape[1]),\n",
    "    Dropout(0.3),\n",
    "    Dense(64, activation='relu'),\n",
    "    Dropout(0.3),\n",
    "    Dense(32, activation='relu'),\n",
    "    Dense(1, activation='sigmoid')  # Output layer for binary classification\n",
    "])"
   ]
  },
  {
   "cell_type": "code",
   "execution_count": null,
   "metadata": {
    "colab": {
     "base_uri": "https://localhost:8080/"
    },
    "id": "vAP6ritHaww9",
    "outputId": "23f7d62f-f266-411a-94ed-73a26b7dcaa8"
   },
   "outputs": [],
   "source": [
    "ann_model.compile(optimizer='adam', loss='binary_crossentropy', metrics=['accuracy'])\n",
    "history = ann_model.fit(x_train_new, y_train_new, epochs=50, batch_size=32, validation_data=(x_test_new, y_test_new))"
   ]
  },
  {
   "cell_type": "code",
   "execution_count": null,
   "metadata": {
    "colab": {
     "base_uri": "https://localhost:8080/"
    },
    "id": "A6vwrH0ZbMhG",
    "outputId": "ec67c3c5-8d14-454a-957a-2bd57a6b5785"
   },
   "outputs": [],
   "source": [
    "loss, accuracy = ann_model.evaluate(x_test_new, y_test_new)\n",
    "print(f\"Test Accuracy: {accuracy:.2f}\")"
   ]
  },
  {
   "cell_type": "code",
   "execution_count": null,
   "metadata": {
    "colab": {
     "base_uri": "https://localhost:8080/"
    },
    "id": "5KtBT16xbYdH",
    "outputId": "3959be60-76ca-46f9-8c95-17851b494244"
   },
   "outputs": [],
   "source": [
    "# classification report\n",
    "y_pred_ann = ann_model.predict(x_test_new)\n",
    "y_pred_ann = (y_pred_ann > 0.5).astype(int)\n",
    "print(classification_report(y_test_new, y_pred_ann))"
   ]
  },
  {
   "cell_type": "markdown",
   "metadata": {
    "id": "diAOH05nEWOs"
   },
   "source": [
    "## Model Evaluation"
   ]
  },
  {
   "cell_type": "code",
   "execution_count": null,
   "metadata": {
    "colab": {
     "base_uri": "https://localhost:8080/",
     "height": 237
    },
    "id": "TDqeZCiOFij4",
    "outputId": "adeb90ce-5af3-40aa-e4e1-9e5135680553"
   },
   "outputs": [],
   "source": [
    "# Evaluating models\n",
    "models = pd.DataFrame({\n",
    "    'Model': ['Random Forest', 'KNN', 'Logistic Regression', 'SVM', 'XGBoost', 'ANN'],\n",
    "    'Accuracy': [accuracy_score(y_test_new, rf_pred), accuracy_score(y_test_new, y_pred_knn), accuracy_score(y_test_new, y_pred_lr), accuracy_score(y_test_new, y_pred), accuracy_score(y_test_new, y_pred_xgb), accuracy_score(y_test_new, y_pred_ann)],\n",
    "})\n",
    "\n",
    "models.sort_values(by='Accuracy', ascending=False)"
   ]
  },
  {
   "cell_type": "code",
   "execution_count": null,
   "metadata": {
    "id": "bas7wjBLInLG"
   },
   "outputs": [],
   "source": [
    "# best fit\n",
    "final_model = xgb.fit(x_train_new, y_train_new)"
   ]
  },
  {
   "cell_type": "markdown",
   "metadata": {
    "id": "o0pc9QdSJF5a"
   },
   "source": [
    "## Deployment"
   ]
  },
  {
   "cell_type": "code",
   "execution_count": null,
   "metadata": {
    "colab": {
     "base_uri": "https://localhost:8080/"
    },
    "id": "aHEqyJQlJI9A",
    "outputId": "cd130908-d705-4f1a-b00d-9fcbcd0d1c35"
   },
   "outputs": [],
   "source": [
    "# deployment\n",
    "import pickle\n",
    "with open('final_model.pkl', 'wb') as file:\n",
    "    pickle.dump(final_model, file)\n",
    "    print(\"Model saved successfully!\")"
   ]
  },
  {
   "cell_type": "code",
   "execution_count": null,
   "metadata": {
    "colab": {
     "base_uri": "https://localhost:8080/"
    },
    "id": "WqsL_lfx8zvX",
    "outputId": "30daf8fe-128f-4ff1-ced3-4bc93f0ef4c6"
   },
   "outputs": [],
   "source": [
    "!pip install -q streamlit\n",
    "!npm install -g localtunnel -U"
   ]
  },
  {
   "cell_type": "code",
   "execution_count": null,
   "metadata": {
    "colab": {
     "base_uri": "https://localhost:8080/"
    },
    "id": "td-7Y5wS8zjs",
    "outputId": "a70ffc12-ac96-4dfd-87df-65f4275b9fc8"
   },
   "outputs": [],
   "source": [
    "!wget -q -O - ipv4.icanhazip.com"
   ]
  },
  {
   "cell_type": "code",
   "execution_count": null,
   "metadata": {
    "colab": {
     "background_save": true,
     "base_uri": "https://localhost:8080/"
    },
    "id": "hkNB3gam9x7O",
    "outputId": "c59f92a8-8042-4626-a96f-fff5f30fc12a"
   },
   "outputs": [],
   "source": [
    "!streamlit run app.py  & npx localtunnel --port 8501"
   ]
  },
  {
   "cell_type": "code",
   "execution_count": null,
   "metadata": {
    "id": "P3g6IVIABRHr"
   },
   "outputs": [],
   "source": []
  },
  {
   "cell_type": "code",
   "execution_count": null,
   "metadata": {
    "id": "HByVUbRU-BiV"
   },
   "outputs": [],
   "source": []
  }
 ],
 "metadata": {
  "colab": {
   "collapsed_sections": [
    "NE5Wr9ZrK2Ca",
    "i_fb8w9-OcxG",
    "Lf7xbZPsH71G",
    "G-gN05XIVTo6",
    "KMfLj3ou41Ea",
    "_TYBYZJnDt3r",
    "MkMyjU8TpC_6"
   ],
   "provenance": []
  },
  "kernelspec": {
   "display_name": "Python 3 (ipykernel)",
   "language": "python",
   "name": "python3"
  },
  "language_info": {
   "codemirror_mode": {
    "name": "ipython",
    "version": 3
   },
   "file_extension": ".py",
   "mimetype": "text/x-python",
   "name": "python",
   "nbconvert_exporter": "python",
   "pygments_lexer": "ipython3",
   "version": "3.12.3"
  }
 },
 "nbformat": 4,
 "nbformat_minor": 4
}
